{
 "cells": [
  {
   "cell_type": "markdown",
   "id": "336ddf43-7a51-4942-88b1-fbef05d440a8",
   "metadata": {},
   "source": [
    "# CSME2 Bonus Point Assignment 1\n",
    "\n",
    "<div style=\"text-align: right;font-size: 0.8em\">Document Version 1.0.0, released 01/12/2021</div>\n",
    "For detailed task instructions, please refer to the assignment PDF.\n",
    "\n",
    "DO NOT CLEAR THE OUTPUT of the notebook you are submitting!"
   ]
  },
  {
   "cell_type": "markdown",
   "id": "e16807c6-9b2d-479f-a48c-61fd2cc82796",
   "metadata": {},
   "source": [
    "### Setup\n",
    "__Task A.1__ Load the data into the following numpy arrays. For the output, only use the first torque variable.\n",
    "Randomly split the data from the file ```sarcos_inv.mat``` into a training set (80%) and a validation set (20%)."
   ]
  },
  {
   "cell_type": "code",
   "execution_count": 2,
   "id": "55262e5f-2f40-4108-9138-7a526f6fa4c0",
   "metadata": {},
   "outputs": [
    {
     "name": "stdout",
     "output_type": "stream",
     "text": [
      "Requirement already satisfied: scipy in /Applications/anaconda3/lib/python3.8/site-packages (1.6.2)\r\n",
      "Requirement already satisfied: numpy<1.23.0,>=1.16.5 in /Applications/anaconda3/lib/python3.8/site-packages (from scipy) (1.20.1)\r\n"
     ]
    }
   ],
   "source": [
    "# Add any additional import you need in this cell\n",
    "\n",
    "import sys\n",
    "!{sys.executable} -m pip install scipy\n",
    "import numpy as np\n",
    "from scipy import io\n",
    "import random\n",
    "import matplotlib.pyplot as plt\n",
    "from sklearn.linear_model import Ridge\n",
    "from sklearn.cluster import kmeans_plusplus, KMeans\n",
    "\n",
    "np.random.seed(1234)"
   ]
  },
  {
   "cell_type": "code",
   "execution_count": 3,
   "id": "0dfab13b",
   "metadata": {},
   "outputs": [],
   "source": [
    "# split data function\n",
    "\n",
    "def split(X, Y, prop):\n",
    "    N_x = X.shape[0]\n",
    "    N_y = Y.shape[0]\n",
    "    nx_split = int(np.around(prop * N_x))  # np.around(x): round the numper\n",
    "    ny_split = int(np.around(prop * N_y))\n",
    "    x1 = X[:nx_split]\n",
    "    y1 = Y[:ny_split]\n",
    "    x2 = X[nx_split:]\n",
    "    y2 = Y[ny_split:]\n",
    "    return x1, x2, y1, y2\n"
   ]
  },
  {
   "cell_type": "code",
   "execution_count": 5,
   "id": "c91bf5d1-90f6-4f61-a681-1242f3f81364",
   "metadata": {},
   "outputs": [],
   "source": [
    "# Load data file\n",
    "\n",
    "file = io.loadmat('sarcos_inv.mat')\n",
    "sorted(file.keys())\n",
    "data = np.array(file['sarcos_inv'])\n",
    "_ = np.random.shuffle(data)\n",
    "data_x = data[:, :21]\n",
    "data_y = data[:,22].reshape([-1,1])\n",
    "\n",
    "testdata = io.loadmat('sarcos_inv_test.mat') \n",
    "sorted(testdata.keys())\n",
    "testdata = np.array(testdata['sarcos_inv_test'])\n",
    "testdata_x = testdata[:, :21]\n",
    "testdata_y = testdata[:,22].reshape([-1,1])\n",
    "\n",
    "# Input and output training data and validation data\n",
    "xs_train, xs_valid, ys_train, ys_valid = split(data_x, data_y, 0.8)\n",
    "\n",
    "\n",
    "# Input and output test data\n",
    "xs_test = np.array(testdata_x)\n",
    "ys_test = np.array(testdata_y)\n"
   ]
  },
  {
   "cell_type": "code",
   "execution_count": 6,
   "id": "432e41e8-7fa4-4d0a-a3b2-0c6881c7dbf8",
   "metadata": {
    "scrolled": true
   },
   "outputs": [
    {
     "name": "stdout",
     "output_type": "stream",
     "text": [
      "(35587, 21)\n",
      "(35587, 1)\n",
      "(8897, 21)\n",
      "(8897, 1)\n",
      "(4449, 21)\n",
      "(4449, 1)\n"
     ]
    }
   ],
   "source": [
    "# Check for yourself \n",
    "# The following should lead to output \n",
    "# (35587, 21)\n",
    "# (35587, 1)\n",
    "# (8897, 21)\n",
    "# (8897, 1)\n",
    "# (4449, 21)\n",
    "# (4449, 1)\n",
    "\n",
    "\n",
    "print(xs_train.shape)\n",
    "print(ys_train.shape)\n",
    "print(xs_valid.shape)\n",
    "print(ys_valid.shape)\n",
    "print(xs_test.shape)\n",
    "print(ys_test.shape)"
   ]
  },
  {
   "cell_type": "markdown",
   "id": "1cd20cae-ee79-4a62-84ca-a1e73b10cd33",
   "metadata": {},
   "source": [
    "__Task A.2__ Standardize the data such that\n",
    "1. Training inputs have mean 0\n",
    "2. Each training input variable has variance 1\n",
    "3. The training outputs have mean 0\n",
    "4. Apply the same transformation to the validation and test data\n",
    "\n",
    "Implement this manually, i.e., do not use a ready scaler like the one provided by scikit-learn."
   ]
  },
  {
   "cell_type": "code",
   "execution_count": 7,
   "id": "5c152c5c-c06b-4d99-8950-750bbcffabda",
   "metadata": {},
   "outputs": [],
   "source": [
    "# Store the standardized data in the following variables\n",
    "\n",
    "xs_train_std = (xs_train - np.mean(xs_train, axis=0)) / np.std(xs_train, axis=0)\n",
    "ys_train_std = ys_train - np.mean(ys_train, axis=0)\n",
    "\n",
    "xs_valid_std = (xs_valid - np.mean(xs_valid, axis=0)) / np.std(xs_valid, axis=0)\n",
    "ys_valid_std = ys_valid - np.mean(ys_valid, axis=0)\n",
    "\n",
    "xs_test_std = (xs_test - np.mean(xs_test, axis=0)) / np.std(xs_test, axis=0)\n",
    "ys_test_std = ys_test - np.mean(ys_test, axis=0)"
   ]
  },
  {
   "cell_type": "code",
   "execution_count": 8,
   "id": "28875927-bb84-4b91-a451-3aafb42bdcc9",
   "metadata": {},
   "outputs": [
    {
     "name": "stdout",
     "output_type": "stream",
     "text": [
      "0.0\n",
      "-0.0\n",
      "0.0\n",
      "-0.0\n",
      "-0.0\n",
      "-0.0\n",
      "[1. 1. 1. 1. 1. 1. 1. 1. 1. 1. 1. 1. 1. 1. 1. 1. 1. 1. 1. 1. 1.]\n",
      "[1. 1. 1. 1. 1. 1. 1. 1. 1. 1. 1. 1. 1. 1. 1. 1. 1. 1. 1. 1. 1.]\n",
      "[1. 1. 1. 1. 1. 1. 1. 1. 1. 1. 1. 1. 1. 1. 1. 1. 1. 1. 1. 1. 1.]\n"
     ]
    }
   ],
   "source": [
    "# Check for yourself\n",
    "# The following should lead to (roughly) six zeros and three arrays with (approximately) ones\n",
    "\n",
    "print(round(np.mean(xs_train_std), 2))\n",
    "print(round(np.mean(ys_train_std), 2))\n",
    "print(round(np.mean(xs_valid_std), 2))\n",
    "print(round(np.mean(ys_valid_std), 2))\n",
    "print(round(np.mean(xs_test_std), 2))\n",
    "print(round(np.mean(ys_test_std), 2))\n",
    "\n",
    "print(np.var(xs_train_std, axis=0))\n",
    "print(np.var(xs_valid_std, axis=0))\n",
    "print(np.var(xs_test_std, axis=0))"
   ]
  },
  {
   "cell_type": "markdown",
   "id": "92e51315-ee86-43b6-ba6d-f869d19e1e90",
   "metadata": {},
   "source": [
    "__Task A.3__"
   ]
  },
  {
   "cell_type": "code",
   "execution_count": 9,
   "id": "42b3ac19-e652-4a78-8cb7-f030c466144a",
   "metadata": {},
   "outputs": [],
   "source": [
    "# Task A.3.a\n",
    "# Implement a function estimating the variance\n",
    "def my_variance(xs):\n",
    "    \n",
    "    xs = xs.astype(float)\n",
    "    xs -= np.mean(xs)\n",
    "    result = np.sum((xs**2))/len(xs)\n",
    "    \n",
    "    return result"
   ]
  },
  {
   "cell_type": "code",
   "execution_count": 10,
   "id": "c3348e0c-6799-464a-9939-159dfd0e5a31",
   "metadata": {},
   "outputs": [
    {
     "name": "stdout",
     "output_type": "stream",
     "text": [
      "Variance of ys_train_std :  223.50393300350225\n"
     ]
    }
   ],
   "source": [
    "# Task A.3.b\n",
    "# Calculate the variance of ys_train_std using your function my_variance\n",
    "\n",
    "var_ys_train = my_variance(ys_train_std)\n",
    "\n",
    "print('Variance of ys_train_std : ', var_ys_train)\n"
   ]
  },
  {
   "cell_type": "code",
   "execution_count": 11,
   "id": "ad11e721-414a-4944-bd78-9e7b9c8163c3",
   "metadata": {},
   "outputs": [],
   "source": [
    "# Task A.3.c\n",
    "# Implement a function calculating the SMSE between two 1d numpy arrays given a normalizing factor\n",
    "\n",
    "\n",
    "def my_smse(z1, z2, s):\n",
    "    \"\"\"Calculate the Standardized Mean Squared Error (SMSE)\n",
    "    \n",
    "    Arguments\n",
    "    z1      1d numpy array (usually the predictions)\n",
    "    z2      1d numpy array \n",
    "    s       Normalization factor \n",
    "    \n",
    "    Returns\n",
    "    The SMSE of the provided data\n",
    "    \"\"\"\n",
    "    # Your implementation\n",
    "    \n",
    "    N = z2.shape[0]\n",
    "    smse = np.sum((z1 - z2) ** 2) / (N * s)\n",
    "    \n",
    "    return smse"
   ]
  },
  {
   "cell_type": "markdown",
   "id": "ef4f8d54-4e5d-4706-81dc-50e5902d83db",
   "metadata": {},
   "source": [
    "## Linear regression\n",
    "### Simple linear regression\n",
    "__Task A.4__"
   ]
  },
  {
   "cell_type": "code",
   "execution_count": 12,
   "id": "2a9334e8-04c3-4b0b-aa79-ac3888b9ab59",
   "metadata": {},
   "outputs": [
    {
     "name": "stdout",
     "output_type": "stream",
     "text": [
      "SMSE of valid data :  0.10317596533941288\n"
     ]
    }
   ],
   "source": [
    "# This variable should contain the weights corresponding to simple linear regression (LS criterion, no bias term)\n",
    "w_lr = np.linalg.inv( xs_train_std.T @ xs_train_std ) @ xs_train_std.T @ ys_train_std\n",
    "\n",
    "\n",
    "# This variable should contain the predictions using w_lr on the validation data\n",
    "ys_pred_valid = xs_valid_std @ w_lr\n",
    "\n",
    "# This should contain the resulting smse\n",
    "smse_lr_valid = my_smse(ys_pred_valid, ys_valid_std, var_ys_train)\n",
    "print('SMSE of valid data : ', smse_lr_valid)\n"
   ]
  },
  {
   "cell_type": "markdown",
   "id": "126a7728-c157-484a-8c19-737487f7dade",
   "metadata": {},
   "source": [
    "### Linear regression with polynomial features\n",
    "__Task A.5__"
   ]
  },
  {
   "cell_type": "code",
   "execution_count": 13,
   "id": "410e12b5-a083-4cdf-8801-c122eb597bb8",
   "metadata": {},
   "outputs": [],
   "source": [
    "# Task A.5.a\n",
    "from itertools import combinations_with_replacement\n",
    "def my_poly_features(xs, degree):\n",
    "    \"\"\"Generates polynomial features from given data\n",
    "    \n",
    "    The polynomial features should include monomials (i.e., x_i, x_i**2 etc)\n",
    "    and interaction terms (x_1*x_2 etc), but no repetitions.\n",
    "    The order of the samples should not be changed through the transformation.\n",
    "    \n",
    "    Arguments\n",
    "    xs      2d numpy array of shape (N,D) containing N samples of dimension D\n",
    "    degree  Maximum degree of polynomials to be considered\n",
    "    \n",
    "    Returns\n",
    "    An (N,M) numpy array containing the transformed input\n",
    "    \"\"\"\n",
    "    # Your implementation\n",
    "    idx_sets = []\n",
    "    for i in range(degree+1):\n",
    "        cc = combinations_with_replacement(range(xs.shape[1]), i)\n",
    "        for c in cc:\n",
    "            idx_sets.append(list(c))\n",
    "\n",
    "    tmp=[]\n",
    "    for idx in idx_sets:\n",
    "        tmp.append(np.prod(xs[:,idx], axis=1))\n",
    "    result = np.array(tmp).T\n",
    "    return result\n",
    "    "
   ]
  },
  {
   "cell_type": "code",
   "execution_count": 14,
   "id": "88f1db66-1d17-425b-99dd-525e80112ca6",
   "metadata": {},
   "outputs": [
    {
     "name": "stdout",
     "output_type": "stream",
     "text": [
      "SMSE of Poly2 :  0.02729679208465681\n",
      "SMSE of Poly3 :  0.012251301583185976\n"
     ]
    }
   ],
   "source": [
    "# Tasks A.5.b\n",
    "\n",
    "# polynomial features\n",
    "x_p2 = my_poly_features(xs_train_std, 2)\n",
    "x_p3 = my_poly_features(xs_train_std, 3)\n",
    "\n",
    "# This variable should contain the weights corresponding to linear regression using polynomial features up to degree 2 and 3\n",
    "w_poly2 = np.linalg.lstsq(x_p2, ys_train_std, rcond=None)[0]\n",
    "w_poly3 = np.linalg.lstsq(x_p3, ys_train_std, rcond=None)[0]\n",
    "\n",
    "# polynomial features\n",
    "x_valid_p2 = my_poly_features(xs_valid_std, 2)\n",
    "x_valid_p3 = my_poly_features(xs_valid_std, 3)\n",
    "\n",
    "# This variable should contain the predictions using w_poly2 and w_poly3 on the validation data\n",
    "ys_pred_poly2_valid = x_valid_p2 @ w_poly2\n",
    "ys_pred_poly3_valid = x_valid_p3 @ w_poly3\n",
    "\n",
    "# This should contain the resulting smse\n",
    "smse_poly2 = my_smse(ys_pred_poly2_valid, ys_valid_std, var_ys_train)\n",
    "smse_poly3 = my_smse(ys_pred_poly3_valid, ys_valid_std, var_ys_train)\n",
    "print('SMSE of Poly2 : ', smse_poly2)\n",
    "print('SMSE of Poly3 : ', smse_poly3)"
   ]
  },
  {
   "cell_type": "markdown",
   "id": "951d9707-89e6-451b-ac2d-8423845ab019",
   "metadata": {},
   "source": [
    "## Clustering\n",
    "__Task B.1__ Implement the basic $K$-Means algorithm."
   ]
  },
  {
   "cell_type": "code",
   "execution_count": 15,
   "id": "91c523b8-f2ed-41df-9dbb-afd254102f8a",
   "metadata": {},
   "outputs": [],
   "source": [
    "def my_kmeans(xs, init_centers, n_iter):\n",
    "    \"\"\"Runs the K-Means algorithm from a given initialization\n",
    "    \n",
    "    Arguments\n",
    "    xs            2d numpy array of shape (N,D) containing N samples of dimension D\n",
    "    init_centers  2d numpy array of shape (K,D) containing the initial cluster centers\n",
    "    n_iter        Number of iterations of the K-Means algorithm\n",
    "    \n",
    "    Returns\n",
    "    An (K,D) numpy array containing the final cluster centers\n",
    "    \"\"\"\n",
    "    # Your implementation\n",
    "    \n",
    "    N = xs.shape[0]\n",
    "    K = init_centers.shape[0]\n",
    "    r_nk = np.zeros((N,K))\n",
    "    mu_k = init_centers\n",
    "    \n",
    "    for t in range(n_iter):\n",
    "        \n",
    "        #reset r_nk\n",
    "        r_nk.fill(0)\n",
    "    \n",
    "        #step1. minimize J for fixed mu_k\n",
    "        for n in range(N):\n",
    "            \n",
    "            xn = np.repeat(xs[n].reshape(1,-1), K, axis=0)\n",
    "            # np.linalg.norm: calculate the norm of matrix (matrix's value)\n",
    "            dis = np.linalg.norm((xn - mu_k), axis=1)\n",
    "            #assign to class k\n",
    "            k = np.argmin(dis ** 2) # np.argmin() return the indices of the minimum values along an axis.\n",
    "            r_nk[n][k] = 1 \n",
    "        \n",
    "        #step2. minimize J for fixed assigments over mu_k, set new centers\n",
    "        for k in range(K):\n",
    "            indexes = [i for i in range(N) if r_nk[i,k]==1]\n",
    "            if len(indexes) > 0:\n",
    "                mu_k[k] = xs[indexes].mean(axis=0)\n",
    "    \n",
    "    return mu_k"
   ]
  },
  {
   "cell_type": "markdown",
   "id": "8fbbdd8d-0316-4eba-9172-e9411bead541",
   "metadata": {},
   "source": [
    "__Task B.2__ Generate test data set and plot it."
   ]
  },
  {
   "cell_type": "code",
   "execution_count": 16,
   "id": "9c0e6ca9-f070-4590-a130-d1b5aef0c736",
   "metadata": {},
   "outputs": [
    {
     "data": {
      "image/png": "[encoded data removed]",
      "text/plain": [
       "<Figure size 432x288 with 1 Axes>"
      ]
     },
     "metadata": {
      "needs_background": "light"
     },
     "output_type": "display_data"
    }
   ],
   "source": [
    "# Test data of shape (100,2)\n",
    "means = [(-2, 2), (-2,-2), (2, -2), (2, 2)]\n",
    "covs = ([(0.2, 0), (0, 0.2)], [(0.2, 0), (0, 0.2)], [(0.5, 0), (0, 0.5)], [(0.5, 0), (0, 0.5)])\n",
    "\n",
    "n_data = 100\n",
    "xs_cluster_test = np.zeros([n_data,2], dtype = float)\n",
    "\n",
    "for n in range(n_data):\n",
    "    # choose a model randomly with probrability weights\n",
    "    idx = np.random.choice(4, 1, replace=True, p=[ 0.3, 0.2, 0.4, 0.1])[0]\n",
    "    xs_cluster_test[n,0], xs_cluster_test[n,1] = np.random.multivariate_normal(means[idx], covs[idx], 1).T\n",
    "\n",
    "plt.plot(xs_cluster_test[:,0], xs_cluster_test[:,1], 'b+')\n",
    "plt.axis('equal')\n",
    "plt.show()"
   ]
  },
  {
   "cell_type": "markdown",
   "id": "c8583191-6666-4fb1-aa81-4a2994e502c2",
   "metadata": {},
   "source": [
    "__Task B.3__ Run your $K$-Means algorithm on the test data for $K=2,3,4,5$ clusters and plot the final cluster centers."
   ]
  },
  {
   "cell_type": "code",
   "execution_count": 17,
   "id": "f20b50a8-ab79-4808-af16-3f29f4131837",
   "metadata": {},
   "outputs": [
    {
     "data": {
      "image/png": "[encoded data removed]",
      "text/plain": [
       "<Figure size 720x720 with 4 Axes>"
      ]
     },
     "metadata": {
      "needs_background": "light"
     },
     "output_type": "display_data"
    }
   ],
   "source": [
    "# Use kmeans_plusplus(xs_cluster_test, K, random_state=0) for initialization\n",
    "\n",
    "plt.figure(figsize=(10,10))\n",
    "n_iter=5\n",
    "\n",
    "for K in range(2,6):\n",
    "    centers, _ = kmeans_plusplus(xs_cluster_test, n_clusters=K, random_state=0)\n",
    "    centers = my_kmeans(xs_cluster_test, centers, n_iter)\n",
    "    \n",
    "    plt.subplot(2,2,K-1)\n",
    "    plt.plot(xs_cluster_test[:,0], xs_cluster_test[:,1], 'b+')\n",
    "    plt.axis('equal')\n",
    "    plt.plot(centers[:,0], centers[:,1], 'ro')\n",
    "    plt.title(f'K={K}')"
   ]
  },
  {
   "cell_type": "markdown",
   "id": "664368f6-688f-45ed-8ca2-4c26fe915a67",
   "metadata": {},
   "source": [
    "## Radial Basis Function Network\n",
    "__Task C.1__ Find $K=100$ cluster centers using $K$-Means."
   ]
  },
  {
   "cell_type": "code",
   "execution_count": 18,
   "id": "0fdbd9b8-f444-4546-a703-491d430ca44e",
   "metadata": {},
   "outputs": [],
   "source": [
    "# This 100x21 numpy array should contain the cluster centers\n",
    "\n",
    "K = 100\n",
    "xs_centers, _ = kmeans_plusplus(xs_train_std, n_clusters=K, random_state=0)\n"
   ]
  },
  {
   "cell_type": "markdown",
   "id": "283eb1a9-5e6d-4df6-a653-c4912a2c4046",
   "metadata": {},
   "source": [
    "__Task C.2__ Implement the Gaussian basis functions and transform the data accordingly"
   ]
  },
  {
   "cell_type": "code",
   "execution_count": 19,
   "id": "ae62b2b4",
   "metadata": {},
   "outputs": [],
   "source": [
    "# Gaussian fuction\n",
    "\n",
    "def gaussian(x, mean, std):\n",
    "    \n",
    "    norm = np.sqrt(2 * np.pi * (std ** 2))\n",
    "    exp = np.exp(-(np.sum((x - mean) ** 2, axis=1) / (std ** 2)))\n",
    "    gaussian = exp / norm\n",
    "    \n",
    "    return gaussian.reshape([-1,1])"
   ]
  },
  {
   "cell_type": "code",
   "execution_count": 20,
   "id": "84af0ebf",
   "metadata": {},
   "outputs": [],
   "source": [
    "def trans_gauss(x, centers):\n",
    "    x_matrix = np.zeros([x.shape[0], 1]) #create dummy column\n",
    "    std = 25\n",
    "    for x_center in centers:\n",
    "        x_matrix = np.hstack((x_matrix, gaussian(x, x_center, std)))\n",
    "    \n",
    "    return np.delete(x_matrix, 0, axis=1) #remove dummy column"
   ]
  },
  {
   "cell_type": "code",
   "execution_count": 21,
   "id": "4829d70b-7276-449d-a801-c151a2d19279",
   "metadata": {},
   "outputs": [],
   "source": [
    "xs_train_gauss = trans_gauss(xs_train_std, xs_centers)"
   ]
  },
  {
   "cell_type": "markdown",
   "id": "ee397e68-58af-4936-b70a-ea9f21510483",
   "metadata": {},
   "source": [
    "__Task C.3__ Run simple linear regression on the transformed data and evaluate it on the test set"
   ]
  },
  {
   "cell_type": "code",
   "execution_count": 22,
   "id": "3520a758-68a4-4cc3-8913-0bae0c6ae1aa",
   "metadata": {},
   "outputs": [
    {
     "name": "stdout",
     "output_type": "stream",
     "text": [
      "SMSE of valid data based on Gaussian :  0.041318264700180095\n"
     ]
    }
   ],
   "source": [
    "# This should contain the resulting predictions on the validation data set\n",
    "w_gau = np.linalg.lstsq(xs_train_gauss, ys_train_std, rcond=None)[0]\n",
    "ys_pred_gauss_valid = trans_gauss(xs_valid_std, xs_centers) @ w_gau\n",
    "\n",
    "# This should contain the corresponding SMSE\n",
    "smse_gauss = my_smse(ys_pred_gauss_valid, ys_valid_std, var_ys_train)\n",
    "print(\"SMSE of valid data based on Gaussian : \", smse_gauss)"
   ]
  },
  {
   "cell_type": "markdown",
   "id": "0311c46c-af9b-45a6-8926-0648b4e3a218",
   "metadata": {},
   "source": [
    "__Open task__ Can you improve the performance of the RBF network?"
   ]
  },
  {
   "cell_type": "code",
   "execution_count": 23,
   "id": "fc56fca6",
   "metadata": {},
   "outputs": [
    {
     "name": "stdout",
     "output_type": "stream",
     "text": [
      "Validation SMSE (improved):  0.02896101383818345\n"
     ]
    }
   ],
   "source": [
    "# By increasing the number of Gaussian Basis function\n",
    "K = 200\n",
    "xs_centers_new, _ = kmeans_plusplus(xs_train_std, n_clusters=K, random_state=0)\n",
    "xs_train_gauss_new = trans_gauss(xs_train_std, xs_centers_new)\n",
    "\n",
    "w_gau_new = np.linalg.lstsq(xs_train_gauss_new, ys_train_std, rcond=None)[0]\n",
    "ys_pred_gauss_valid_new = trans_gauss(xs_valid_std, xs_centers_new) @ w_gau_new\n",
    "smse_gau_new = my_smse(ys_pred_gauss_valid_new, ys_valid_std, var_ys_train)\n",
    "print(\"Validation SMSE (improved): \", smse_gau_new)"
   ]
  },
  {
   "cell_type": "markdown",
   "id": "586f77ae-b5f9-4e02-9564-42573e5045a2",
   "metadata": {},
   "source": [
    "__Task C.4__ Evaluate your final model (either the one from Task C.3 or your improved model from the open task) on the test data"
   ]
  },
  {
   "cell_type": "code",
   "execution_count": 24,
   "id": "a35eda50-ec10-453d-952a-82c73dfd2b0e",
   "metadata": {},
   "outputs": [
    {
     "name": "stdout",
     "output_type": "stream",
     "text": [
      "SMSE of test data :  0.04088864514279579\n",
      "SMSE of test data (improved) :  0.027974351831318738\n"
     ]
    }
   ],
   "source": [
    "# This should contain the predictions on the test data set\n",
    "# Model from Task C.3 (with 100 Basis functions)\n",
    "ys_pred_gauss_test = trans_gauss(xs_test_std, xs_centers) @ w_gau\n",
    "smse_test = my_smse(ys_pred_gauss_test, ys_test_std, var_ys_train)\n",
    "print(\"SMSE of test data : \", smse_test)\n",
    "\n",
    "# Model from the open task (with 200 Basis functions)\n",
    "ys_pred_gauss_test_new = trans_gauss(xs_test_std, xs_centers_new) @ w_gau_new\n",
    "smse_test_new = my_smse(ys_pred_gauss_test_new, ys_test_std, var_ys_train)\n",
    "print(\"SMSE of test data (improved) : \", smse_test_new)"
   ]
  }
 ],
 "metadata": {
  "kernelspec": {
   "display_name": "Python 3",
   "language": "python",
   "name": "python3"
  },
  "language_info": {
   "codemirror_mode": {
    "name": "ipython",
    "version": 3
   },
   "file_extension": ".py",
   "mimetype": "text/x-python",
   "name": "python",
   "nbconvert_exporter": "python",
   "pygments_lexer": "ipython3",
   "version": "3.8.8"
  }
 },
 "nbformat": 4,
 "nbformat_minor": 5
}
